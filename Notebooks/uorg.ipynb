{
 "cells": [
  {
   "cell_type": "code",
   "execution_count": null,
   "metadata": {
    "collapsed": false
   },
   "outputs": [
    {
     "name": "stderr",
     "output_type": "stream",
     "text": [
      "/usr/local/lib/python3.5/dist-packages/IPython/core/interactiveshell.py:2717: DtypeWarning: Columns (23,25) have mixed types. Specify dtype option on import or set low_memory=False.\n",
      "  interactivity=interactivity, compiler=compiler, result=result)\n"
     ]
    },
    {
     "name": "stdout",
     "output_type": "stream",
     "text": [
      "20160131\n"
     ]
    }
   ],
   "source": [
    "# -*- coding: UTF-8 -*-\n",
    "import csv\n",
    "import pandas as pd\n",
    "\n",
    "ano ='2016'\n",
    "listdias = ['31', '29', '31', '30', '31', '30', '31', '31', '30', '31', '30', '31' ]\n",
    "listmes = ['01', '02', '03', '04', '05', '06', '07', '08', '09', '10', '11', '12' ]\n",
    "m=0\n",
    "\n",
    "for d in listdias:\n",
    "\tdata = pd.read_csv('/home/crislanio.macedo/DADOSABERTOS/Dados Abertos/dados_servidores/'+ano+'/'+ano+listmes[m]+'_Servidores/'+ano+listmes[m]+d+'_Cadastro.csv', delimiter=\"\\t\", encoding=\"ISO-8859-9\")\n",
    "\n",
    "\tprint (ano+listmes[m]+d)\n",
    "\n",
    "\tfor i, row in data.iterrows():\n",
    "\n",
    "\t\tif row['UORG_LOTACAO'] == str('NaN') or row['UORG_LOTACAO'] == str('NUL') or row['UORG_LOTACAO'] == str('NULL') or row['UORG_LOTACAO'] is None:\n",
    "\t\t\tprint (\"UORG_LOTACAO == nulo\")\n",
    "\t\t\tprint(data.loc[i,['NOME', 'ORG_LOTACAO','ORGSUP_LOTACAO','UORG_LOTACAO']])\n",
    "\n",
    "\t\t# if row['COD_ORG_LOTACAO'] == row['COD_ORGSUP_LOTACAO'] :\n",
    "\t\t# \tprint (\"COD_ORGSUP_LOTACAO == COD_ORG_LOTACAO\")\n",
    "\t\t# \tprint(data.loc[i,['NOME', 'ORG_LOTACAO','ORGSUP_LOTACAO','UORG_LOTACAO']])\n",
    "\n",
    "\t\t# if row['COD_UORG_LOTACAO'] == row['COD_ORGSUP_LOTACAO'] :\n",
    "\t\t# \tprint (\"COD_ORGSUP_LOTACAO == COD_UORG_LOTACAO\")\n",
    "\t\t# \tprint(data.loc[i,['NOME', 'ORG_LOTACAO','ORGSUP_LOTACAO','UORG_LOTACAO']])\n",
    "\n",
    "\t# print (data.groupby(\"ORGSUP_LOTACAO\").size())\n",
    "\t# print (data.dtypes)\n",
    "\t# print(data['COD_UORG_LOTACAO'].value_const())\n",
    "\n",
    "\t# print(data.ORG_LOTACAO.isnull().any())\n",
    "\t# print(data.COD_ORG_LOTACAO.isnull().any())\n",
    "\n",
    "\t# print(data.COD_UORG_LOTACAO.isnull().any())\n",
    "\t# print(data.UORG_LOTACAO.isnull().any())\n",
    "\n",
    "\t# print(data.COD_ORGSUP_LOTACAO.isnull().any())\n",
    "\t# print(data.ORGSUP_LOTACAO.isnull().any())\n",
    "\n",
    "\n",
    "\tm+=1\n"
   ]
  }
 ],
 "metadata": {
  "kernelspec": {
   "display_name": "Python 3",
   "language": "python",
   "name": "python3"
  },
  "language_info": {
   "codemirror_mode": {
    "name": "ipython",
    "version": 3
   },
   "file_extension": ".py",
   "mimetype": "text/x-python",
   "name": "python",
   "nbconvert_exporter": "python",
   "pygments_lexer": "ipython3",
   "version": "3.5.2"
  }
 },
 "nbformat": 4,
 "nbformat_minor": 2
}

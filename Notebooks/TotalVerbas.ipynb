{
 "cells": [
  {
   "cell_type": "code",
   "execution_count": null,
   "metadata": {
    "collapsed": false,
    "scrolled": true
   },
   "outputs": [
    {
     "name": "stdout",
     "output_type": "stream",
     "text": [
      "20170131\n"
     ]
    }
   ],
   "source": [
    "\n",
    "# -*- coding: UTF-8 -*-\n",
    "import csv\n",
    "import pandas as pd\n",
    "import numpy as np\n",
    "from decimal import *\n",
    "# O que deve ser verificado é se o atributo TOTAL DE VERBAS INDENIZATÓRIAS = VERBAS INDENIZATÓRIAS REGISTRADAS EM SISTEMAS DE PESSOAL - CIVIL (R$) + VERBAS INDENIZATÓRIAS REGISTRADAS EM SISTEMAS DE PESSOAL - MILITAR (R$)?\n",
    "\n",
    "# Ou seria TOTAL DE VERBAS INDENIZATÓRIAS = VERBAS INDENIZATÓRIAS REGISTRADAS EM SISTEMAS DE PESSOAL - CIVIL (R$)?\n",
    "\n",
    "# Ou seria TOTAL DE VERBAS INDENIZATÓRIAS = VERBAS INDENIZATÓRIAS REGISTRADAS EM SISTEMAS DE PESSOAL - MILITAR (R$)?\n",
    "\n",
    "# ano ='2016'\n",
    "# listdias = ['31', '29', '31', '30', '31', '30', '31', '31', '30', '31', '30', '31' ]\n",
    "# listmes = ['01', '02', '03', '04', '05', '06', '07', '08', '09', '10', '11', '12' ]\n",
    "\n",
    "ano ='2017'\n",
    "listdias =['31', '28', '31']\n",
    "listmes = ['01', '02', '03']\n",
    "\n",
    "m=0\n",
    "\n",
    "for d in listdias:\n",
    "\tdata = pd.read_csv('/home/crislanio.macedo/DADOSABERTOS/Dados Abertos/dados_servidores/'+ano+'/'+ano+listmes[m]+'_Servidores/'+ano+listmes[m]+d+'_Remuneracao.csv', delimiter=\"\\t\", encoding=\"ISO-8859-9\")\n",
    "\n",
    "\tprint (ano+listmes[m]+d)\n",
    "\n",
    "\tfor i, row in data.iterrows():\n",
    "\t\ttotal = row['TOTAL DE VERBAS INDENIZATÓRIAS (R$)(*)']\n",
    "\t\ttotal = total.replace(',','.')\n",
    "\t\tcivil =row['VERBAS INDENIZATÓRIAS REGISTRADAS EM SISTEMAS DE PESSOAL - CIVIL (R$)(*)']\n",
    "\t\tcivil = civil.replace(',','.')\n",
    "\t\tmilitar = row['VERBAS INDENIZATÓRIAS REGISTRADAS EM SISTEMAS DE PESSOAL - MILITAR (R$)(*)']\n",
    "\t\tmilitar = militar.replace(',','.')\n",
    "\n",
    "\t\tif(float(total) != float(civil) + float(militar)):\n",
    "\t\t\tprint(data.loc[i,:])\n",
    "\n",
    "\t\t# if decimal.Decimal(row['TOTAL DE VERBAS INDENIZATÓRIAS (R$)(*)']) != decimal.Decimal(row['VERBAS INDENIZATÓRIAS REGISTRADAS EM SISTEMAS DE PESSOAL - CIVIL (R$)(*)']) + decimal.Decimal(row['VERBAS INDENIZATÓRIAS REGISTRADAS EM SISTEMAS DE PESSOAL - MILITAR (R$)(*)']) :\n",
    "\t\t\t# print (decimal.Decimal(row['TOTAL DE VERBAS INDENIZATÓRIAS (R$)(*)'])) #== float(row['VERBAS INDENIZATÓRIAS REGISTRADAS EM SISTEMAS DE PESSOAL - CIVIL (R$)(*)'][0]))\n",
    "\t\t\t# print (data.loc[i,:])\n",
    "\tm+=1\n",
    "\n",
    "\n",
    "# print (data.groupby(\"SITUACAO_VINCULO\").size())"
   ]
  },
  {
   "cell_type": "code",
   "execution_count": null,
   "metadata": {
    "collapsed": true
   },
   "outputs": [],
   "source": [
    "# De acordo com o Script se existir algum caso que o total de verbas indenizatórias seja diferente da soma entre verbas indenizatórias registradas em sistemas de pessoal - civil e verbas indenizatórias registradas em sistemas de pessoal - militar este caso será mostrado.\n",
    "\n",
    "# O Script foi executado para todos os meses de 2016 e 2017 e como resultado NÃO mostrou nenhum caso, ou seja, podemos concluir que:\n",
    "\n",
    "# O atributo TOTAL DE VERBAS INDENIZATÓRIAS = VERBAS INDENIZATÓRIAS REGISTRADAS EM SISTEMAS DE PESSOAL - CIVIL (R$) + VERBAS INDENIZATÓRIAS REGISTRADAS EM SISTEMAS DE PESSOAL - MILITAR (R$)"
   ]
  },
  {
   "cell_type": "code",
   "execution_count": null,
   "metadata": {
    "collapsed": true
   },
   "outputs": [],
   "source": []
  }
 ],
 "metadata": {
  "kernelspec": {
   "display_name": "Python 3",
   "language": "python",
   "name": "python3"
  },
  "language_info": {
   "codemirror_mode": {
    "name": "ipython",
    "version": 3
   },
   "file_extension": ".py",
   "mimetype": "text/x-python",
   "name": "python",
   "nbconvert_exporter": "python",
   "pygments_lexer": "ipython3",
   "version": "3.5.2"
  }
 },
 "nbformat": 4,
 "nbformat_minor": 2
}

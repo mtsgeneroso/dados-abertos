{
 "cells": [
  {
   "cell_type": "code",
   "execution_count": null,
   "metadata": {
    "collapsed": false
   },
   "outputs": [
    {
     "name": "stderr",
     "output_type": "stream",
     "text": [
      "/usr/local/lib/python3.5/dist-packages/IPython/core/interactiveshell.py:2717: DtypeWarning: Columns (23,25) have mixed types. Specify dtype option on import or set low_memory=False.\n",
      "  interactivity=interactivity, compiler=compiler, result=result)\n"
     ]
    },
    {
     "name": "stdout",
     "output_type": "stream",
     "text": [
      "20160131\n",
      "20160229\n"
     ]
    },
    {
     "name": "stderr",
     "output_type": "stream",
     "text": [
      "/usr/local/lib/python3.5/dist-packages/IPython/core/interactiveshell.py:2717: DtypeWarning: Columns (10,12,23,25) have mixed types. Specify dtype option on import or set low_memory=False.\n",
      "  interactivity=interactivity, compiler=compiler, result=result)\n"
     ]
    },
    {
     "name": "stdout",
     "output_type": "stream",
     "text": [
      "20160331\n",
      "20160430\n",
      "20160531\n",
      "20160630\n",
      "20160731\n",
      "20160831\n",
      "20160930\n",
      "20161031\n",
      "20161130\n",
      "20161231\n"
     ]
    }
   ],
   "source": [
    "# -*- coding: UTF-8 -*-\n",
    "import csv\n",
    "import pandas as pd\n",
    "import numpy as np\n",
    "\n",
    "# SEM VINCULO, SEM FUNÇÃO, SEM CARGO para o ano inteiro \n",
    "\n",
    "ano ='2016'\n",
    "listdias = ['31', '29', '31', '30', '31', '30', '31', '31', '30', '31', '30', '31' ]\n",
    "listmes = ['01', '02', '03', '04', '05', '06', '07', '08', '09', '10', '11', '12' ]\n",
    "\n",
    "# ano ='2017'\n",
    "# listdias = ['31', '28', '31']\n",
    "# listmes = ['01', '02', '03']\n",
    "\n",
    "m=0\n",
    "for d in listdias:\n",
    "\tdata = pd.read_csv('/home/crislanio.macedo/DADOSABERTOS/Dados Abertos/dados_servidores/'+ano+'/'+ano+listmes[m]+'_Servidores/'+ano+listmes[m]+d+'_Cadastro.csv', delimiter=\"\\t\", encoding=\"ISO-8859-9\")\n",
    "\tprint (ano+listmes[m]+d)\n",
    "# SEM VINCULO, SEM FUNÇÃO, SEM CARGO\n",
    "\ttabela = data[['NOME', 'REGIME_JURIDICO','SITUACAO_VINCULO', 'DESCRICAO_CARGO', 'FUNCAO']]\n",
    "\ttabela2 = []\n",
    "\tfor i, row in tabela.iterrows():\n",
    "\t\tif row['SITUACAO_VINCULO'] == str('SEM VINCULO') and pd.isnull(row['DESCRICAO_CARGO']) and pd.isnull(row['FUNCAO']): # row['DESCRICAO_CARGO'] == str('NaN') and row['FUNCAO'] == str('NaN'):\n",
    "\t\t\ttabela2.append(tabela.loc[i,:])    \n",
    "\ttabelaSVinculoSCargoSFuncao = pd.DataFrame(np.array(tabela2), columns = ['NOME', 'REGIME_JURIDICO','SITUACAO_VINCULO', 'DESCRICAO_CARGO', 'FUNCAO'])\n",
    "\ttabelaSVinculoSCargoSFuncao.to_csv('/home/crislanio.macedo/DADOSABERTOS/Dados Abertos/dados_servidores/'+ano+'/'+ano+listmes[m]+'_Servidores/'+ano+listmes[m]+d+'_SemVinculoSemFuncaoSemCargo.csv')        \n",
    "    \n",
    "\tm+=1\n",
    "\n",
    "#data = pd.read_csv('/home/crislanio.macedo/DADOSABERTOS/Dados Abertos/dados_servidores/2017/201701_Servidores/20170131_Cadastro.csv', delimiter=\"\\t\", encoding=\"ISO-8859-9\", low_memory=False)\n",
    "#data2 = pd.read_csv('/home/crislanio.macedo/DADOSABERTOS/Dados Abertos/dados_servidores/2017/201701_Servidores/20170131_Remuneracao.csv', delimiter=\"\\t\", encoding=\"ISO-8859-9\", low_memory=False)\n",
    "\n"
   ]
  },
  {
   "cell_type": "code",
   "execution_count": null,
   "metadata": {
    "collapsed": true
   },
   "outputs": [],
   "source": [
    "\n",
    "tabelaSVinculoSCargoSFuncao"
   ]
  },
  {
   "cell_type": "code",
   "execution_count": null,
   "metadata": {
    "collapsed": true
   },
   "outputs": [],
   "source": []
  }
 ],
 "metadata": {
  "kernelspec": {
   "display_name": "Python 3",
   "language": "python",
   "name": "python3"
  },
  "language_info": {
   "codemirror_mode": {
    "name": "ipython",
    "version": 3
   },
   "file_extension": ".py",
   "mimetype": "text/x-python",
   "name": "python",
   "nbconvert_exporter": "python",
   "pygments_lexer": "ipython3",
   "version": "3.5.2"
  }
 },
 "nbformat": 4,
 "nbformat_minor": 2
}

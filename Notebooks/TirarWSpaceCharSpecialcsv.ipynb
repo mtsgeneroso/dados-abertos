{
 "cells": [
  {
   "cell_type": "code",
   "execution_count": 1,
   "metadata": {
    "collapsed": false
   },
   "outputs": [],
   "source": [
    "# retirando espaços em branco e caracteres especiais\n",
    "\n",
    "# -*-coding: UTF-8 -*-\n",
    "import pandas as pd\n",
    "import numpy as np\n",
    "import csv\n",
    "import sys\n",
    "\n",
    "data = pd.read_csv('/home/crislanio.macedo/DADOSABERTOS/Dados Abertos/20170131_CadastroPARATESTE.csv', delimiter=\"\\t\", encoding=\"ISO-8859-9\", low_memory=False)\n",
    "dataRem = pd.read_csv('/home/crislanio.macedo/DADOSABERTOS/Dados Abertos/dados_servidores/2017/201701_Servidores/20170131_Remuneracao.csv', delimiter=\"\\t\", encoding=\"ISO-8859-9\", low_memory=False)\n",
    "\n",
    "\n",
    "# # Resumo das variáveis até o momento.Escolhendo as colunas para colocar em outro csv\n",
    "# csvTable = data[['COD_UORG_LOTACAO','UORG_LOTACAO', 'COD_ORG_LOTACAO', 'ORG_LOTACAO', 'ORGSUP_LOTACAO','COD_ORGSUP_LOTACAO' ]]\n",
    "# csvTable.info()\n"
   ]
  },
  {
   "cell_type": "code",
   "execution_count": 28,
   "metadata": {
    "collapsed": false
   },
   "outputs": [
    {
     "data": {
      "text/plain": [
       "Index(['ANO', 'MES', 'ID_SERVIDOR_PORTAL', 'CPF', 'NOME',\n",
       "       'REMUNERAÇÃO BÁSICA BRUTA (R$)', 'REMUNERAÇÃO BÁSICA BRUTA (U$)',\n",
       "       'ABATE-TETO (R$)', 'ABATE-TETO (U$)', 'GRATIFICAÇÃO NATALINA (R$)',\n",
       "       'GRATIFICAÇÃO NATALINA (U$)',\n",
       "       'ABATE-TETO DA GRATIFICAÇÃO NATALINA (R$)',\n",
       "       'ABATE-TETO DA GRATIFICAÇÃO NATALINA (U$)', 'FÉRIAS (R$)',\n",
       "       'FÉRIAS (U$)', 'OUTRAS REMUNERAÇÕES EVENTUAIS (R$)',\n",
       "       'OUTRAS REMUNERAÇÕES EVENTUAIS (U$)', 'IRRF (R$)', 'IRRF (U$)',\n",
       "       'PSS/RPGS (R$)', 'PSS/RPGS (U$)', 'PENSÃO MILITAR (R$)',\n",
       "       'PENSÃO MILITAR (U$)', 'FUNDO DE SAÚDE (R$)', 'FUNDO DE SAÚDE (U$)',\n",
       "       'DEMAIS DEDUÇÕES (R$)', 'DEMAIS DEDUÇÕES (U$)',\n",
       "       'REMUNERAÇÃO APÓS DEDUÇÕES OBRIGATÓRIAS (R$)',\n",
       "       'REMUNERAÇÃO APÓS DEDUÇÕES OBRIGATÓRIAS (U$)',\n",
       "       'VERBAS INDENIZATÓRIAS REGISTRADAS EM SISTEMAS DE PESSOAL - CIVIL (R$)(*)',\n",
       "       'VERBAS INDENIZATÓRIAS REGISTRADAS EM SISTEMAS DE PESSOAL - CIVIL (U$)(*)',\n",
       "       'VERBAS INDENIZATÓRIAS REGISTRADAS EM SISTEMAS DE PESSOAL - MILITAR (R$)(*)',\n",
       "       'VERBAS INDENIZATÓRIAS REGISTRADAS EM SISTEMAS DE PESSOAL - MILITAR (U$)(*)',\n",
       "       'TOTAL DE VERBAS INDENIZATÓRIAS (R$)(*)',\n",
       "       'TOTAL DE VERBAS INDENIZATÓRIAS (U$)(*)',\n",
       "       'TOTAL DE HONORÁRIOS (JETONS)'],\n",
       "      dtype='object')"
      ]
     },
     "execution_count": 28,
     "metadata": {},
     "output_type": "execute_result"
    }
   ],
   "source": [
    "#Colunas Antigas\n",
    "dataRem1.columns"
   ]
  },
  {
   "cell_type": "code",
   "execution_count": 2,
   "metadata": {
    "collapsed": false
   },
   "outputs": [],
   "source": [
    "dataRemnova = dataRem.rename( columns = {'ANO': 'ANO',  'MES':'MES', 'ID_SERVIDOR_PORTAL':'ID_SERVIDOR_PORTAL', 'CPF':'CPF', 'NOME':'NOME',\n",
    "        'REMUNERAÇÃO BÁSICA BRUTA (R$)':'REMUNERACAO_BASICA_BRUTA_REAL', 'REMUNERAÇÃO BÁSICA BRUTA (U$)':'REMUNERACAO_BASICA_BRUTA_DOLAR',\n",
    "       'ABATE-TETO (R$)':'ABATE_TETO_REAL', 'ABATE-TETO (U$)':'ABATE_TETO_DOLAR', 'GRATIFICAÇÃO NATALINA (R$)':'GRATIFICACAO_NATALINA_REAL',\n",
    "       'GRATIFICAÇÃO NATALINA (U$)':'GRATIFICACAO_NATALINA_DOLAR',\n",
    "        'ABATE-TETO DA GRATIFICAÇÃO NATALINA (R$)':'ABATE_TETO_DA_GRATIFICACAO_NATALINA_REAL',\n",
    "       'ABATE-TETO DA GRATIFICAÇÃO NATALINA (U$)':'ABATE_TETO_DA_GRATIFICACAO_NATALINA_DOLAR', 'FÉRIAS (R$)':'FERIAS_REAL',\n",
    "       'FÉRIAS (U$)':'FERIAS_DOLAR', 'OUTRAS REMUNERAÇÕES EVENTUAIS (R$)':'OUTRAS_REMUNERACOES_EVENTUAIS_REAL',\n",
    "       'OUTRAS REMUNERAÇÕES EVENTUAIS (U$)':'OUTRAS_REMUNERACOES_EVENTUAIS_DOLAR',  'IRRF (R$)':'IRRF_REAL', 'IRRF (U$)':'IRRF_DOLAR',\n",
    "       'PSS/RPGS (R$)':'PSS_RPGS_REAL', 'PSS/RPGS (U$)':'PSS_RPGS_DOLAR', 'PENSÃO MILITAR (R$)':'PENSAO_MILITAR_REAL',\n",
    "       'PENSÃO MILITAR (U$)':'PENSAO_MILITAR_DOLAR', 'FUNDO DE SAÚDE (R$)':'FUNDO_DE_SAUDE_REAL', 'FUNDO DE SAÚDE (U$)':'FUNDO_DE_SAUDE_DOLAR',\n",
    "        'DEMAIS DEDUÇÕES (R$)':'DEMAIS_DEDUCOES_REAL', 'DEMAIS DEDUÇÕES (U$)':'DEMAIS_DEDUCOES_DOLAR',\n",
    "        'REMUNERAÇÃO APÓS DEDUÇÕES OBRIGATÓRIAS (R$)':'REMUNERACAO_APOS_DEDUCOES_OBRIGATORIAS_REAL',\n",
    "       'REMUNERAÇÃO APÓS DEDUÇÕES OBRIGATÓRIAS (U$)':'REMUNERACAO_APOS_DEDUCOES_OBRIGATORIAS_DOLAR',\n",
    "       'VERBAS INDENIZATÓRIAS REGISTRADAS EM SISTEMAS DE PESSOAL - CIVIL (R$)(*)':'VERBAS_INDENIZATORIAS_DE_PESSOAL_CIVIL_REAL',\n",
    "        'VERBAS INDENIZATÓRIAS REGISTRADAS EM SISTEMAS DE PESSOAL - CIVIL (U$)(*)':'VERBAS_INDENIZATORIAS__DE_PESSOAL_CIVIL_DOLAR',\n",
    "       'VERBAS INDENIZATÓRIAS REGISTRADAS EM SISTEMAS DE PESSOAL - MILITAR (R$)(*)':'VERBAS_INDENIZATORIAS_DE_PESSOAL_MILITAR_REAL',\n",
    "        'VERBAS INDENIZATÓRIAS REGISTRADAS EM SISTEMAS DE PESSOAL - MILITAR (U$)(*)':'VERBAS_INDENIZATORIAS_DE_PESSOAL_MILITAR_DOLAR',\n",
    "        'TOTAL DE VERBAS INDENIZATÓRIAS (R$)(*)':'TOTAL_DE_VERBAS_INDENIZATORIAS_REAL',\n",
    "        'TOTAL DE VERBAS INDENIZATÓRIAS (U$)(*)':'TOTAL_DE_VERBAS_INDENIZATORIAS_DOLAR',\n",
    "        'TOTAL DE HONORÁRIOS (JETONS)':'TOTAL_DE_HONORARIOS_JETONS'})\n",
    "\n"
   ]
  },
  {
   "cell_type": "code",
   "execution_count": 3,
   "metadata": {
    "collapsed": false
   },
   "outputs": [
    {
     "data": {
      "text/plain": [
       "Index(['ANO', 'MES', 'ID_SERVIDOR_PORTAL', 'CPF', 'NOME',\n",
       "       'REMUNERACAO_BASICA_BRUTA_REAL', 'REMUNERACAO_BASICA_BRUTA_DOLAR',\n",
       "       'ABATE_TETO_REAL', 'ABATE_TETO_DOLAR', 'GRATIFICACAO_NATALINA_REAL',\n",
       "       'GRATIFICACAO_NATALINA_DOLAR',\n",
       "       'ABATE_TETO_DA_GRATIFICACAO_NATALINA_REAL',\n",
       "       'ABATE_TETO_DA_GRATIFICACAO_NATALINA_DOLAR', 'FERIAS_REAL',\n",
       "       'FERIAS_DOLAR', 'OUTRAS_REMUNERACOES_EVENTUAIS_REAL',\n",
       "       'OUTRAS_REMUNERACOES_EVENTUAIS_DOLAR', 'IRRF_REAL', 'IRRF_DOLAR',\n",
       "       'PSS_RPGS_REAL', 'PSS_RPGS_DOLAR', 'PENSAO_MILITAR_REAL',\n",
       "       'PENSAO_MILITAR_DOLAR', 'FUNDO_DE_SAUDE_REAL', 'FUNDO_DE_SAUDE_DOLAR',\n",
       "       'DEMAIS_DEDUCOES_REAL', 'DEMAIS_DEDUCOES_DOLAR',\n",
       "       'REMUNERACAO_APOS_DEDUCOES_OBRIGATORIAS_REAL',\n",
       "       'REMUNERACAO_APOS_DEDUCOES_OBRIGATORIAS_DOLAR',\n",
       "       'VERBAS_INDENIZATORIAS_DE_PESSOAL_CIVIL_REAL',\n",
       "       'VERBAS_INDENIZATORIAS__DE_PESSOAL_CIVIL_DOLAR',\n",
       "       'VERBAS_INDENIZATORIAS_DE_PESSOAL_MILITAR_REAL',\n",
       "       'VERBAS_INDENIZATORIAS_DE_PESSOAL_MILITAR_DOLAR',\n",
       "       'TOTAL_DE_VERBAS_INDENIZATORIAS_REAL',\n",
       "       'TOTAL_DE_VERBAS_INDENIZATORIAS_DOLAR', 'TOTAL_DE_HONORARIOS_JETONS'],\n",
       "      dtype='object')"
      ]
     },
     "execution_count": 3,
     "metadata": {},
     "output_type": "execute_result"
    }
   ],
   "source": [
    "#Colunas Novas\n",
    "dataRemnova.columns"
   ]
  },
  {
   "cell_type": "code",
   "execution_count": 89,
   "metadata": {
    "collapsed": false
   },
   "outputs": [],
   "source": [
    "# CSVRemuneracao = dataRemnova.to_csv('remTeste.csv', index=False)"
   ]
  },
  {
   "cell_type": "code",
   "execution_count": 5,
   "metadata": {
    "collapsed": false
   },
   "outputs": [
    {
     "name": "stderr",
     "output_type": "stream",
     "text": [
      "/usr/local/lib/python3.5/dist-packages/IPython/core/interactiveshell.py:2717: DtypeWarning: Columns (23,25) have mixed types. Specify dtype option on import or set low_memory=False.\n",
      "  interactivity=interactivity, compiler=compiler, result=result)\n"
     ]
    },
    {
     "name": "stdout",
     "output_type": "stream",
     "text": [
      "20160131\n",
      "sucesso 2016/01\n",
      "20160229\n",
      "sucesso 2016/02\n"
     ]
    },
    {
     "name": "stderr",
     "output_type": "stream",
     "text": [
      "/usr/local/lib/python3.5/dist-packages/IPython/core/interactiveshell.py:2717: DtypeWarning: Columns (10,12,23,25) have mixed types. Specify dtype option on import or set low_memory=False.\n",
      "  interactivity=interactivity, compiler=compiler, result=result)\n"
     ]
    },
    {
     "name": "stdout",
     "output_type": "stream",
     "text": [
      "20160331\n",
      "sucesso 2016/03\n",
      "20160430\n",
      "sucesso 2016/04\n",
      "20160531\n",
      "sucesso 2016/05\n",
      "20160630\n",
      "sucesso 2016/06\n",
      "20160731\n",
      "sucesso 2016/07\n",
      "20160831\n",
      "sucesso 2016/08\n",
      "20160930\n",
      "sucesso 2016/09\n",
      "20161031\n",
      "sucesso 2016/10\n",
      "20161130\n",
      "sucesso 2016/11\n",
      "20161231\n",
      "sucesso 2016/12\n"
     ]
    }
   ],
   "source": [
    "# #####################################     Execulte essa célula para o ano inteiro         ############### # \n",
    "\n",
    "# -*- coding: UTF-8 -*-\n",
    "import csv\n",
    "import pandas as pd\n",
    "\n",
    "ano ='2016'\n",
    "listdias = ['31', '29', '31', '30', '31', '30', '31', '31', '30', '31', '30', '31' ]\n",
    "listmes = ['01', '02', '03', '04', '05', '06', '07', '08', '09', '10', '11', '12' ]\n",
    "\n",
    "# ano ='2017'\n",
    "# listdias = ['31', '28', '31']#,'30', '31', '30', '31', '31', '30', '31', '30', '31' ]\n",
    "# listmes = ['01', '02', '03']# , '04', '05', '06', '07', '08', '09', '10', '11', '12' ]\n",
    "\n",
    "m=0\n",
    "\n",
    "for d in listdias:\n",
    "\tdata = pd.read_csv('/home/crislanio.macedo/DADOSABERTOS/Dados Abertos/dados_servidores/'+ano+'/'+ano+listmes[m]+'_Servidores/'+ano+listmes[m]+d+'_Cadastro.csv', delimiter=\"\\t\", encoding=\"ISO-8859-9\")\n",
    "\n",
    "\tprint (ano+listmes[m]+d)\n",
    "\tdataRemnova = dataRem.rename( columns = {'ANO': 'ANO',  'MES':'MES', 'ID_SERVIDOR_PORTAL':'ID_SERVIDOR_PORTAL', 'CPF':'CPF', 'NOME':'NOME',\n",
    "        'REMUNERAÇÃO BÁSICA BRUTA (R$)':'REMUNERACAO_BASICA_BRUTA_REAL', 'REMUNERAÇÃO BÁSICA BRUTA (U$)':'REMUNERACAO_BASICA_BRUTA_DOLAR',\n",
    "       'ABATE-TETO (R$)':'ABATE_TETO_REAL', 'ABATE-TETO (U$)':'ABATE_TETO_DOLAR', 'GRATIFICAÇÃO NATALINA (R$)':'GRATIFICACAO_NATALINA_REAL',\n",
    "       'GRATIFICAÇÃO NATALINA (U$)':'GRATIFICACAO_NATALINA_DOLAR',\n",
    "        'ABATE-TETO DA GRATIFICAÇÃO NATALINA (R$)':'ABATE_TETO_DA_GRATIFICACAO_NATALINA_REAL',\n",
    "       'ABATE-TETO DA GRATIFICAÇÃO NATALINA (U$)':'ABATE_TETO_DA_GRATIFICACAO_NATALINA_DOLAR', 'FÉRIAS (R$)':'FERIAS_REAL',\n",
    "       'FÉRIAS (U$)':'FERIAS_DOLAR', 'OUTRAS REMUNERAÇÕES EVENTUAIS (R$)':'OUTRAS_REMUNERACOES_EVENTUAIS_REAL',\n",
    "       'OUTRAS REMUNERAÇÕES EVENTUAIS (U$)':'OUTRAS_REMUNERACOES_EVENTUAIS_DOLAR',  'IRRF (R$)':'IRRF_REAL', 'IRRF (U$)':'IRRF_DOLAR',\n",
    "       'PSS/RPGS (R$)':'PSS_RPGS_REAL', 'PSS/RPGS (U$)':'PSS_RPGS_DOLAR', 'PENSÃO MILITAR (R$)':'PENSAO_MILITAR_REAL',\n",
    "       'PENSÃO MILITAR (U$)':'PENSAO_MILITAR_DOLAR', 'FUNDO DE SAÚDE (R$)':'FUNDO_DE_SAUDE_REAL', 'FUNDO DE SAÚDE (U$)':'FUNDO_DE_SAUDE_DOLAR',\n",
    "        'DEMAIS DEDUÇÕES (R$)':'DEMAIS_DEDUCOES_REAL', 'DEMAIS DEDUÇÕES (U$)':'DEMAIS_DEDUCOES_DOLAR',\n",
    "        'REMUNERAÇÃO APÓS DEDUÇÕES OBRIGATÓRIAS (R$)':'REMUNERACAO_APOS_DEDUCOES_OBRIGATORIAS_REAL',\n",
    "       'REMUNERAÇÃO APÓS DEDUÇÕES OBRIGATÓRIAS (U$)':'REMUNERACAO_APOS_DEDUCOES_OBRIGATORIAS_DOLAR',\n",
    "       'VERBAS INDENIZATÓRIAS REGISTRADAS EM SISTEMAS DE PESSOAL - CIVIL (R$)(*)':'VERBAS_INDENIZATORIAS_DE_PESSOAL_CIVIL_REAL',\n",
    "        'VERBAS INDENIZATÓRIAS REGISTRADAS EM SISTEMAS DE PESSOAL - CIVIL (U$)(*)':'VERBAS_INDENIZATORIAS__DE_PESSOAL_CIVIL_DOLAR',\n",
    "       'VERBAS INDENIZATÓRIAS REGISTRADAS EM SISTEMAS DE PESSOAL - MILITAR (R$)(*)':'VERBAS_INDENIZATORIAS_DE_PESSOAL_MILITAR_REAL',\n",
    "        'VERBAS INDENIZATÓRIAS REGISTRADAS EM SISTEMAS DE PESSOAL - MILITAR (U$)(*)':'VERBAS_INDENIZATORIAS_DE_PESSOAL_MILITAR_DOLAR',\n",
    "        'TOTAL DE VERBAS INDENIZATÓRIAS (R$)(*)':'TOTAL_DE_VERBAS_INDENIZATORIAS_REAL',\n",
    "        'TOTAL DE VERBAS INDENIZATÓRIAS (U$)(*)':'TOTAL_DE_VERBAS_INDENIZATORIAS_DOLAR',\n",
    "        'TOTAL DE HONORÁRIOS (JETONS)':'TOTAL_DE_HONORARIOS_JETONS'})\n",
    "\n",
    "\n",
    "\ttabelaRem = pd.DataFrame(dataRemnova, columns = ['ANO', 'MES', 'ID_SERVIDOR_PORTAL', 'CPF', 'NOME',\n",
    "       'REMUNERACAO_BASICA_BRUTA_REAL', 'REMUNERACAO_BASICA_BRUTA_DOLAR',\n",
    "       'ABATE_TETO_REAL', 'ABATE_TETO_DOLAR', 'GRATIFICACAO_NATALINA_REAL',\n",
    "       'GRATIFICACAO_NATALINA_DOLAR',\n",
    "       'ABATE_TETO_DA_GRATIFICACAO_NATALINA_REAL',\n",
    "       'ABATE_TETO_DA_GRATIFICACAO_NATALINA_DOLAR', 'FERIAS_REAL',\n",
    "       'FERIAS_DOLAR', 'OUTRAS_REMUNERACOES_EVENTUAIS_REAL',\n",
    "       'OUTRAS_REMUNERACOES_EVENTUAIS_DOLAR', 'IRRF_REAL', 'IRRF_DOLAR',\n",
    "       'PSS_RPGS_REAL', 'PSS_RPGS_DOLAR', 'PENSAO_MILITAR_REAL',\n",
    "       'PENSAO_MILITAR_DOLAR', 'FUNDO_DE_SAUDE_REAL', 'FUNDO_DE_SAUDE_DOLAR',\n",
    "       'DEMAIS_DEDUCOES_REAL', 'DEMAIS_DEDUCOES_DOLAR',\n",
    "       'REMUNERACAO_APOS_DEDUCOES_OBRIGATORIAS_REAL',\n",
    "       'REMUNERACAO_APOS_DEDUCOES_OBRIGATORIAS_DOLAR',\n",
    "       'VERBAS_INDENIZATORIAS_DE_PESSOAL_CIVIL_REAL',\n",
    "       'VERBAS_INDENIZATORIAS__DE_PESSOAL_CIVIL_DOLAR',\n",
    "       'VERBAS_INDENIZATORIAS_DE_PESSOAL_MILITAR_REAL',\n",
    "       'VERBAS_INDENIZATORIAS_DE_PESSOAL_MILITAR_DOLAR',\n",
    "       'TOTAL_DE_VERBAS_INDENIZATORIAS_REAL',\n",
    "       'TOTAL_DE_VERBAS_INDENIZATORIAS_DOLAR', 'TOTAL_DE_HONORARIOS_JETONS'])\n",
    "    \n",
    "\tCSVRemuneracao = tabelaRem.to_csv('/home/crislanio.macedo/DADOSABERTOS/Dados Abertos/dados_servidores/'+ano+'/'+ano+listmes[m]+'_Servidores/'+ano+listmes[m]+d+'_NovaRemuneracao.csv', index=False)\n",
    "\tprint(\"sucesso \"+ano+'/'+listmes[m])\n",
    "\tm+=1\n",
    "\n",
    "\n",
    "\n",
    "## NOTA PARA ABRIR O NOVO CSV O DELIMITADOR É ' , '\n"
   ]
  },
  {
   "cell_type": "code",
   "execution_count": null,
   "metadata": {
    "collapsed": true
   },
   "outputs": [],
   "source": []
  },
  {
   "cell_type": "code",
   "execution_count": 83,
   "metadata": {
    "collapsed": false
   },
   "outputs": [],
   "source": []
  },
  {
   "cell_type": "code",
   "execution_count": null,
   "metadata": {
    "collapsed": false
   },
   "outputs": [],
   "source": []
  },
  {
   "cell_type": "code",
   "execution_count": null,
   "metadata": {
    "collapsed": false
   },
   "outputs": [],
   "source": []
  },
  {
   "cell_type": "code",
   "execution_count": null,
   "metadata": {
    "collapsed": true
   },
   "outputs": [],
   "source": []
  },
  {
   "cell_type": "code",
   "execution_count": 10,
   "metadata": {
    "collapsed": false
   },
   "outputs": [],
   "source": [
    "# Não precisamos mais\n",
    "\n",
    "# # transformando as colunas em lista\n",
    "\n",
    "# listAno = dataRem[\"ANO\"].tolist()\n",
    "# listMes = dataRem[\"MES\"].tolist()\n",
    "# listID_SERVIDOR_PORTAL = dataRem[\"ID_SERVIDOR_PORTAL\"].tolist()\n",
    "# listCPF = dataRem[\"CPF\"].tolist()\n",
    "# listNOME = dataRem[\"NOME\"].tolist()\n",
    "# listREMUNERACAO_BASICA_BRUTA_REAIS = dataRem['REMUNERAÇÃO BÁSICA BRUTA (R$)'].tolist()\n",
    "# listREMUNERACAO_BASICA_BRUTA_DOLLAR = dataRem['REMUNERAÇÃO BÁSICA BRUTA (U$)'].tolist()\n",
    "# listABATE_TETO_REAIS = dataRem[ 'ABATE-TETO (R$)'].tolist()\n",
    "# listABATE_TETO_DOLLAR = dataRem['ABATE-TETO (U$)'].tolist()\n",
    "# listGRATIFICACAO_NATALINA_REAIS = dataRem['GRATIFICAÇÃO NATALINA (R$)'].tolist()\n",
    "# listGRATIFICACAO_NATALINA_DOLLAR = dataRem['GRATIFICAÇÃO NATALINA (U$)'].tolist()\n",
    "# listABATE_TETO_DA_GRATIFICACAO_NATALINA_REAIS = dataRem['ABATE-TETO DA GRATIFICAÇÃO NATALINA (R$)'].tolist()\n",
    "# listABATE_TETO_DA_GRATIFICACAO_NATALINA_DOLLAR = dataRem['ABATE-TETO DA GRATIFICAÇÃO NATALINA (U$)'].tolist()\n",
    "# listFERIAS_REAIS = dataRem['FÉRIAS (R$)'].tolist()\n",
    "# listFERIAS_DOLLAR = dataRem['FÉRIAS (U$)'].tolist()\n",
    "# listOUTRAS_REMUNERACOES_EVENTUAIS_REAIS = dataRem['OUTRAS REMUNERAÇÕES EVENTUAIS (R$)'].tolist()\n",
    "# listOUTRAS_REMUNERACOES_EVENTUAIS_DOLLAR = dataRem['OUTRAS REMUNERAÇÕES EVENTUAIS (U$)'].tolist()\n",
    "# listIRRF_REAIS = dataRem['IRRF (R$)'].tolist()\n",
    "# listIRRF_DOLLAR = dataRem['IRRF (U$)'].tolist()\n",
    "# listPSS_RPGS_REAIS = dataRem['PSS/RPGS (R$)'].tolist()\n",
    "# listPSS_RPGS_DOLLAR = dataRem['PSS/RPGS (U$)'].tolist()\n",
    "# listPENSAO_MILITAR_REAIS = dataRem['PENSÃO MILITAR (R$)'].tolist()\n",
    "# listPENSAO_MILITAR_DOLLAR = dataRem['PENSÃO MILITAR (U$)'].tolist()\n",
    "# listFUNDO_DE_SAUDE_REAIS = dataRem['FUNDO DE SAÚDE (R$)'].tolist()\n",
    "# listFUNDO_DE_SAUDE_DOLLAR = dataRem['FUNDO DE SAÚDE (U$)'].tolist()\n",
    "# listDEMAIS_DEDUCOES_REAIS = dataRem['DEMAIS DEDUÇÕES (R$)'].tolist()\n",
    "# listDEMAIS_DEDUCOES_DOLLAR = dataRem['DEMAIS DEDUÇÕES (U$)'].tolist()\n",
    "# listREMUNERACAO_APOS_DEDUCOES_OBRIGATORIAS_REAIS = dataRem['REMUNERAÇÃO APÓS DEDUÇÕES OBRIGATÓRIAS (R$)'].tolist()\n",
    "# listREMUNERACAO_APOS_DEDUCOES_OBRIGATORIAS_DOLLAR = dataRem['REMUNERAÇÃO APÓS DEDUÇÕES OBRIGATÓRIAS (U$)'].tolist()\n",
    "# listVERBAS_INDENIZATORIAS_REGISTRADAS_EM_SISTEMAS_DE_PESSOAL_CIVIL_REAIS_ASTERISCO = dataRem['VERBAS INDENIZATÓRIAS REGISTRADAS EM SISTEMAS DE PESSOAL - CIVIL (R$)(*)'].tolist()\n",
    "# listVERBAS_INDENIZATORIAS_REGISTRADAS_EM_SISTEMAS_DE_PESSOAL_CIVIL_DOLLAR_ASTERISCO = dataRem['VERBAS INDENIZATÓRIAS REGISTRADAS EM SISTEMAS DE PESSOAL - CIVIL (U$)(*)'].tolist()\n",
    "# listVERBAS_INDENIZATORIAS_REGISTRADAS_EM_SISTEMAS_DE_PESSOAL_MILITAR_REAIS_ASTERISCO = dataRem['VERBAS INDENIZATÓRIAS REGISTRADAS EM SISTEMAS DE PESSOAL - MILITAR (R$)(*)'].tolist()\n",
    "# listVERBAS_INDENIZATORIAS_REGISTRADAS_EM_SISTEMAS_DE_PESSOAL_MILITAR_DOLLAR_ASTERISCO = dataRem['VERBAS INDENIZATÓRIAS REGISTRADAS EM SISTEMAS DE PESSOAL - MILITAR (U$)(*)'].tolist()\n",
    "# listTOTAL_DE_VERBAS_INDENIZATORIAS_REAIS_ASTERISCO = dataRem['TOTAL DE VERBAS INDENIZATÓRIAS (R$)(*)'].tolist()\n",
    "# listTOTAL_DE_VERBAS_INDENIZATORIAS_DOLLAR_ASTERISCO = dataRem['TOTAL DE VERBAS INDENIZATÓRIAS (U$)(*)'].tolist()\n",
    "# listTOTAL_DE_HONORARIOS_JETONS = dataRem['TOTAL DE HONORÁRIOS (JETONS)'].tolist()\n"
   ]
  },
  {
   "cell_type": "code",
   "execution_count": null,
   "metadata": {
    "collapsed": false
   },
   "outputs": [],
   "source": []
  },
  {
   "cell_type": "code",
   "execution_count": null,
   "metadata": {
    "collapsed": true
   },
   "outputs": [],
   "source": []
  },
  {
   "cell_type": "code",
   "execution_count": 20,
   "metadata": {
    "collapsed": false
   },
   "outputs": [
    {
     "data": {
      "text/plain": [
       "Index(['ANO', 'MES', 'ID_SERVIDOR_PORTAL', 'CPF', 'NOME',\n",
       "       'REMUNERACAO_BASICA_BRUTA_REAIS', 'REMUNERACAO_BASICA_BRUTA_DOLLAR',\n",
       "       'ABATE_TETO_REAIS', 'ABATE_TETO_DOLLAR', 'GRATIFICACAO_NATALINA_REAIS',\n",
       "       'GRATIFICACAO_NATALINA_DOLLAR',\n",
       "       'ABATE_TETO_DA_GRATIFICACAO_NATALINA_REAIS',\n",
       "       'ABATE_TETO_DA_GRATIFICACAO_NATALINA_DOLLAR', 'FERIAS_REAIS',\n",
       "       'FERIAS_DOLLAR', 'OUTRAS_REMUNERACOES_EVENTUAIS_REAIS',\n",
       "       'OUTRAS_REMUNERACOES_EVENTUAIS_DOLLAR', 'IRRF_REAIS', 'IRRF_DOLLAR',\n",
       "       'PSS_RPGS_REAIS', 'PSS_RPGS_DOLLAR', 'PENSAO_MILITAR_REAIS',\n",
       "       'PENSAO_MILITAR_DOLLAR', 'FUNDO_DE_SAUDE_REAIS',\n",
       "       'FUNDO_DE_SAUDE_DOLLAR', 'DEMAIS_DEDUCOES_REAIS',\n",
       "       'DEMAIS_DEDUCOES_DOLLAR',\n",
       "       'REMUNERACAO_APOS_DEDUCOES_OBRIGATORIAS_REAIS',\n",
       "       'REMUNERACAO_APOS_DEDUCOES_OBRIGATORIAS_DOLLAR',\n",
       "       'VERBAS_INDENIZATORIAS_REGISTRADAS_EM_SISTEMAS_DE_PESSOAL_CIVIL_REAIS_ASTERISCO',\n",
       "       'VERBAS_INDENIZATORIAS_REGISTRADAS_EM_SISTEMAS_DE_PESSOAL_CIVIL_DOLLAR_ASTERISCO',\n",
       "       'VERBAS_INDENIZATORIAS_REGISTRADAS_EM_SISTEMAS_DE_PESSOAL_MILITAR_REAIS_ASTERISCO',\n",
       "       'VERBAS_INDENIZATORIAS_REGISTRADAS_EM_SISTEMAS_DE_PESSOAL_MILITAR_DOLLAR_ASTERISCO',\n",
       "       'TOTAL_DE_VERBAS_INDENIZATORIAS_REAIS_ASTERISCO',\n",
       "       'TOTAL_DE_VERBAS_INDENIZATORIAS_DOLLAR_ASTERISCO',\n",
       "       'TOTAL_DE_HONORARIOS_JETONS'],\n",
       "      dtype='object')"
      ]
     },
     "execution_count": 20,
     "metadata": {},
     "output_type": "execute_result"
    }
   ],
   "source": [
    "# Colunas da remuneração\n",
    "dataRemuneracao.columns"
   ]
  },
  {
   "cell_type": "code",
   "execution_count": 24,
   "metadata": {
    "collapsed": false
   },
   "outputs": [],
   "source": [
    "# Não precisamos mais\n",
    "\n",
    "\n",
    "# data1 = pd.DataFrame(listAno, columns = ['ANO'])\n",
    "# data2 = pd.DataFrame(listMes, columns = ['MES'])\n",
    "# data3 = pd.DataFrame(listID_SERVIDOR_PORTAL, columns = ['ID_SERVIDOR_PORTAL'])\n",
    "# data4 = pd.DataFrame(listCPF, columns = ['CPF'])\n",
    "# data5 = pd.DataFrame(listNOME, columns = ['NOME'])\n",
    "# data6 = pd.DataFrame(listREMUNERACAO_BASICA_BRUTA_REAIS, columns = ['REMUNERACAO_BASICA_BRUTA_REAIS'])\n",
    "# data7 = pd.DataFrame(listREMUNERACAO_BASICA_BRUTA_DOLLAR, columns = ['REMUNERACAO_BASICA_BRUTA_DOLLAR'])\n",
    "# data8 = pd.DataFrame(listABATE_TETO_REAIS, columns = ['ABATE_TETO_REAIS'])\n",
    "# data9 = pd.DataFrame(listABATE_TETO_DOLLAR, columns = ['ABATE_TETO_DOLLAR'])\n",
    "# data10 = pd.DataFrame(listGRATIFICACAO_NATALINA_REAIS, columns = ['GRATIFICACAO_NATALINA_REAIS'])\n",
    "# data11 = pd.DataFrame(listGRATIFICACAO_NATALINA_DOLLAR, columns = ['GRATIFICACAO_NATALINA_DOLLAR'])\n",
    "# data12 = pd.DataFrame(listABATE_TETO_DA_GRATIFICACAO_NATALINA_REAIS, columns = ['ABATE_TETO_DA_GRATIFICACAO_NATALINA_REAIS'])\n",
    "# data13 = pd.DataFrame(listABATE_TETO_DA_GRATIFICACAO_NATALINA_DOLLAR, columns = ['ABATE_TETO_DA_GRATIFICACAO_NATALINA_DOLLAR'])\n",
    "# data14 = pd.DataFrame(listFERIAS_REAIS, columns = ['FERIAS_REAIS'])\n",
    "# data15 = pd.DataFrame(listFERIAS_DOLLAR, columns = ['FERIAS_DOLLAR'])\n",
    "# data17 = pd.DataFrame(listOUTRAS_REMUNERACOES_EVENTUAIS_REAIS, columns = ['OUTRAS_REMUNERACOES_EVENTUAIS_REAIS'])\n",
    "# data18 = pd.DataFrame(listOUTRAS_REMUNERACOES_EVENTUAIS_DOLLAR, columns = ['OUTRAS_REMUNERACOES_EVENTUAIS_DOLLAR'])\n",
    "# data19 = pd.DataFrame(listIRRF_REAIS, columns = ['IRRF_REAIS'])\n",
    "# data20 = pd.DataFrame(listIRRF_DOLLAR, columns = ['IRRF_DOLLAR'])\n",
    "# data21 = pd.DataFrame(listPSS_RPGS_REAIS, columns = ['PSS_RPGS_REAIS'])\n",
    "# data22 = pd.DataFrame(listPSS_RPGS_DOLLAR, columns = ['PSS_RPGS_DOLLAR'])\n",
    "# data23 = pd.DataFrame(listPENSAO_MILITAR_REAIS, columns = ['PENSAO_MILITAR_REAIS'])\n",
    "# data24 = pd.DataFrame(listPENSAO_MILITAR_DOLLAR, columns = ['PENSAO_MILITAR_DOLLAR'])\n",
    "# data25 = pd.DataFrame(listFUNDO_DE_SAUDE_REAIS, columns = ['FUNDO_DE_SAUDE_REAIS'])\n",
    "# data26 = pd.DataFrame(listFUNDO_DE_SAUDE_DOLLAR, columns = ['FUNDO_DE_SAUDE_DOLLAR'])\n",
    "# data27 = pd.DataFrame(listDEMAIS_DEDUCOES_REAIS, columns = ['DEMAIS_DEDUCOES_REAIS'])\n",
    "# data28 = pd.DataFrame(listDEMAIS_DEDUCOES_DOLLAR, columns = ['DEMAIS_DEDUCOES_DOLLAR'])\n",
    "# data29 = pd.DataFrame(listREMUNERACAO_APOS_DEDUCOES_OBRIGATORIAS_REAIS, columns = ['REMUNERACAO_APOS_DEDUCOES_OBRIGATORIAS_REAIS'])\n",
    "# data30 = pd.DataFrame(listREMUNERACAO_APOS_DEDUCOES_OBRIGATORIAS_DOLLAR, columns = ['REMUNERACAO_APOS_DEDUCOES_OBRIGATORIAS_DOLLAR'])\n",
    "# data31 = pd.DataFrame(listVERBAS_INDENIZATORIAS_REGISTRADAS_EM_SISTEMAS_DE_PESSOAL_CIVIL_REAIS_ASTERISCO, columns = ['VERBAS_INDENIZATORIAS_REGISTRADAS_EM_SISTEMAS_DE_PESSOAL_CIVIL_REAIS_ASTERISCO'])\n",
    "# data32 = pd.DataFrame(listVERBAS_INDENIZATORIAS_REGISTRADAS_EM_SISTEMAS_DE_PESSOAL_CIVIL_DOLLAR_ASTERISCO, columns = ['VERBAS_INDENIZATORIAS_REGISTRADAS_EM_SISTEMAS_DE_PESSOAL_CIVIL_DOLLAR_ASTERISCO'])\n",
    "# data33 = pd.DataFrame(listVERBAS_INDENIZATORIAS_REGISTRADAS_EM_SISTEMAS_DE_PESSOAL_MILITAR_REAIS_ASTERISCO, columns = ['VERBAS_INDENIZATORIAS_REGISTRADAS_EM_SISTEMAS_DE_PESSOAL_MILITAR_REAIS_ASTERISCO'])\n",
    "# data34 = pd.DataFrame(listVERBAS_INDENIZATORIAS_REGISTRADAS_EM_SISTEMAS_DE_PESSOAL_MILITAR_DOLLAR_ASTERISCO, columns = ['VERBAS_INDENIZATORIAS_REGISTRADAS_EM_SISTEMAS_DE_PESSOAL_MILITAR_DOLLAR_ASTERISCO'])\n",
    "# data35 = pd.DataFrame(listTOTAL_DE_VERBAS_INDENIZATORIAS_REAIS_ASTERISCO, columns = ['TOTAL_DE_VERBAS_INDENIZATORIAS_REAIS_ASTERISCO'])\n",
    "# data36 = pd.DataFrame(listTOTAL_DE_VERBAS_INDENIZATORIAS_DOLLAR_ASTERISCO, columns = ['TOTAL_DE_VERBAS_INDENIZATORIAS_DOLLAR_ASTERISCO'])\n",
    "# data37 = pd.DataFrame(listTOTAL_DE_HONORARIOS_JETONS, columns = ['TOTAL_DE_HONORARIOS_JETONS'])\n",
    "\n",
    "\n",
    "# teste = pd.concat(data1, data3)\n",
    "\n",
    "# #Uniao = pd.concat([data1, data2, data3, data4, data5, data6, data7, data8, data9, data10, data11, data12, data13,data14, data15, data17,data18,data19,data20,data21,data22,data23,data24,data25,data26,data27,data28,data29,data30,data31,data32,data33,data34,data35,data36,data37])    \n",
    "# # print(type(dataRemuneracao))# Gerando um cvs através do dataframe\n",
    "# # CSVTeste = Uniao.to_csv('remTeste.csv')\n",
    "# print(len(teste))"
   ]
  },
  {
   "cell_type": "code",
   "execution_count": null,
   "metadata": {
    "collapsed": true
   },
   "outputs": [],
   "source": []
  },
  {
   "cell_type": "code",
   "execution_count": null,
   "metadata": {
    "collapsed": true
   },
   "outputs": [],
   "source": []
  },
  {
   "cell_type": "code",
   "execution_count": null,
   "metadata": {
    "collapsed": true
   },
   "outputs": [],
   "source": []
  },
  {
   "cell_type": "code",
   "execution_count": null,
   "metadata": {
    "collapsed": true
   },
   "outputs": [],
   "source": []
  },
  {
   "cell_type": "code",
   "execution_count": null,
   "metadata": {
    "collapsed": true
   },
   "outputs": [],
   "source": []
  },
  {
   "cell_type": "code",
   "execution_count": null,
   "metadata": {
    "collapsed": true
   },
   "outputs": [],
   "source": []
  },
  {
   "cell_type": "code",
   "execution_count": null,
   "metadata": {
    "collapsed": true
   },
   "outputs": [],
   "source": []
  },
  {
   "cell_type": "code",
   "execution_count": null,
   "metadata": {
    "collapsed": true
   },
   "outputs": [],
   "source": []
  },
  {
   "cell_type": "code",
   "execution_count": null,
   "metadata": {
    "collapsed": true
   },
   "outputs": [],
   "source": []
  },
  {
   "cell_type": "code",
   "execution_count": null,
   "metadata": {
    "collapsed": true
   },
   "outputs": [],
   "source": []
  },
  {
   "cell_type": "code",
   "execution_count": null,
   "metadata": {
    "collapsed": true
   },
   "outputs": [],
   "source": []
  },
  {
   "cell_type": "code",
   "execution_count": null,
   "metadata": {
    "collapsed": true
   },
   "outputs": [],
   "source": []
  },
  {
   "cell_type": "code",
   "execution_count": null,
   "metadata": {
    "collapsed": true
   },
   "outputs": [],
   "source": []
  }
 ],
 "metadata": {
  "kernelspec": {
   "display_name": "Python 3",
   "language": "python",
   "name": "python3"
  },
  "language_info": {
   "codemirror_mode": {
    "name": "ipython",
    "version": 3
   },
   "file_extension": ".py",
   "mimetype": "text/x-python",
   "name": "python",
   "nbconvert_exporter": "python",
   "pygments_lexer": "ipython3",
   "version": "3.5.2"
  }
 },
 "nbformat": 4,
 "nbformat_minor": 2
}

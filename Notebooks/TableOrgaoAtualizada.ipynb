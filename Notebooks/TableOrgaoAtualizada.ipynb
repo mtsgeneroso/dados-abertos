{
 "cells": [
  {
   "cell_type": "code",
   "execution_count": null,
   "metadata": {
    "collapsed": false
   },
   "outputs": [
    {
     "name": "stderr",
     "output_type": "stream",
     "text": [
      "/usr/local/lib/python3.5/dist-packages/IPython/core/interactiveshell.py:2717: DtypeWarning: Columns (10,12,23,25) have mixed types. Specify dtype option on import or set low_memory=False.\n",
      "  interactivity=interactivity, compiler=compiler, result=result)\n"
     ]
    },
    {
     "name": "stdout",
     "output_type": "stream",
     "text": [
      "20170131\n"
     ]
    }
   ],
   "source": [
    "# -*- coding: UTF-8 -*-\n",
    "import csv\n",
    "import pandas as pd\n",
    "\n",
    "ano ='2016'\n",
    "listdias = ['31', '29', '31', '30', '31', '30', '31', '31', '30', '31', '30', '31' ]\n",
    "listmes = ['01', '02', '03', '04', '05', '06', '07', '08', '09', '10', '11', '12' ]\n",
    "\n",
    "ano ='2017'\n",
    "listdias = ['31', '28', '31']\n",
    "listmes = ['01', '02', '03']\n",
    "m=0\n",
    "\n",
    "for d in listdias:\n",
    "\tdata = pd.read_csv('/home/crislanio.macedo/DADOSABERTOS/Dados Abertos/dados_servidores/'+ano+'/'+ano+listmes[m]+'_Servidores/'+ano+listmes[m]+d+'_Cadastro.csv', delimiter=\"\\t\", encoding=\"ISO-8859-9\")\n",
    "\n",
    "\tprint (ano+listmes[m]+d)\n",
    "\n",
    "\tcsvTable = data[['UORG_LOTACAO', 'ORG_LOTACAO', 'ORGSUP_LOTACAO']]\n",
    "\n",
    "\ttabelaOrgaoDF = pd.DataFrame(csvTable, columns = ['UORG_LOTACAO', 'ORG_LOTACAO', 'ORGSUP_LOTACAO'])\n",
    "\n",
    "\ttabelaOrgaoDF.to_csv('/home/crislanio.macedo/DADOSABERTOS/Dados Abertos/dados_servidores/'+ano+'/'+ano+listmes[m]+'_Servidores/'+ano+listmes[m]+d+'_ORG.csv')\n",
    "\n",
    "\t\n",
    "\tm+=1\n",
    "\n",
    "# GERANDO O CVS DO ORGÃO PARA O ANO INTEIRO COM AS COLUNAS data[['UORG_LOTACAO', 'ORG_LOTACAO', 'ORGSUP_LOTACAO']]"
   ]
  },
  {
   "cell_type": "code",
   "execution_count": null,
   "metadata": {
    "collapsed": true
   },
   "outputs": [],
   "source": []
  },
  {
   "cell_type": "code",
   "execution_count": null,
   "metadata": {
    "collapsed": true
   },
   "outputs": [],
   "source": [
    "#print(mdata[\"SITUACAO_VINCULO\"]) \n",
    "print(data.duplicated('UORG_LOTACAO') == False)\n",
    "[i for i in  data.duplicated('UORG_LOTACAO') == False]"
   ]
  }
 ],
 "metadata": {
  "kernelspec": {
   "display_name": "Python 3",
   "language": "python",
   "name": "python3"
  },
  "language_info": {
   "codemirror_mode": {
    "name": "ipython",
    "version": 3
   },
   "file_extension": ".py",
   "mimetype": "text/x-python",
   "name": "python",
   "nbconvert_exporter": "python",
   "pygments_lexer": "ipython3",
   "version": "3.5.2"
  }
 },
 "nbformat": 4,
 "nbformat_minor": 2
}
